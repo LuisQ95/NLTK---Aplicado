{
 "cells": [
  {
   "cell_type": "markdown",
   "metadata": {},
   "source": [
    "# RANKING I - ENTRENAMIENTO DE LOS MODELOS RANKEADORES"
   ]
  },
  {
   "cell_type": "markdown",
   "metadata": {},
   "source": [
    "De alguna forma, esta data debe ser traída de la base de conocimientos, cuyo producto (parámetro) sea \"Sueldo\". Para esto, se apoyará en lo que venga desde el servicio \"reformulador\""
   ]
  },
  {
   "cell_type": "code",
   "execution_count": 115,
   "metadata": {},
   "outputs": [],
   "source": [
    "FAQ=[\"Si abrí mi Cuenta por la web, ¿Cómo puedo realizar operaciones en ella?.\",\n",
    "            \"¿Qué es una Cuenta Sueldo bimoneda?.\",\n",
    "            \"¿Cuánto pago al mes por mantenimiento de mi Cuenta Sueldo y mi Tarjeta de Débito?.\",\n",
    "            \"¿Cuántas operaciones libres tengo por ventanilla?.\",\n",
    "            \"¿Cuántas operaciones libres tengo en Cajeros Automáticos del BBVA Continental?.\",\n",
    "            \"¿Puedo usar mi tarjeta de débito en establecimientos comerciales que tengan terminales POS?.\",\n",
    "            \"¿Puedo disponer de los fondos en cualquier momento?.\",\n",
    "            \"¿Los saldos de mi Cuenta Sueldo están cubiertos por el Fondo de Seguros de Depósito?.\",\n",
    "            \"¿Cuánto dinero necesito para abrir una Cuenta Sueldo?.\",\n",
    "            \"¿Puedo hacer nuevos depósitos en mi Cuenta Sueldo una vez abierta?.\",\n",
    "            \"¿Qué es una franquicia en mi cuenta Sueldo?.\",\n",
    "            \"¿Mensualmente recibo estados de cuenta?.\",    \n",
    "            \"¿Qué es Twitter?\",\n",
    "            \"¿Necesito algo en especial para usar el servicio?\",\n",
    "            \"¿Qué es un Tweet?\",\n",
    "            \"¿Cómo puedo enviar actualizaciones a Twitter?\",\n",
    "            \"¿Qué es un Retweet?\",\n",
    "            \"¿Cómo publico una imagen en Twitter?\",\n",
    "            \"¿Puedo editar un Tweet una vez que lo publiqué?\",\n",
    "            \"¿Cómo activo el modo nocturno?\",\n",
    "            \"¿Quiénes leen mis actualizaciones?\",\n",
    "            \"¿Por qué no puedo ver todos mis Tweets? ¿Se perdieron?\",\n",
    "            \"¿Puedo mostrar mis actualizaciones de Twitter en mi blog?\",\n",
    "            \"¿Qué significa seguir a alguien en Twitter?\",\n",
    "            \"¿Cómo puedo encontrar personas para seguir?\",\n",
    "            \"¿Cómo sé a quién estoy siguiendo?\",\n",
    "            \"¿Cómo sé quién me sigue?\",\n",
    "            \"¿Qué son los límites de seguimiento?\",\n",
    "            \"¿Qué son las respuestas?\",\n",
    "            \"¿Cuál es la diferencia entre una respuesta y un Mensaje Directo?\",\n",
    "            \"¿Qué son los Mensajes Directos?\",\n",
    "            \"¿Por qué se suspenden las cuentas?\",\n",
    "            \"¿Cómo puedo denunciar el spam?\",\n",
    "            \"¿Dónde puedo encontrar más información sobre los Términos de servicio de Twitter?\",\n",
    "            \"¿Cómo puedo enviar una queja sobre problemas relacionados con los derechos de autor, la suplantación de identidad, las marcas comerciales u otras cuestiones relacionadas con los Términos de servicio?\"]"
   ]
  },
  {
   "cell_type": "code",
   "execution_count": 116,
   "metadata": {},
   "outputs": [
    {
     "name": "stdout",
     "output_type": "stream",
     "text": [
      "[nltk_data] Downloading package stopwords to\n",
      "[nltk_data]     C:\\Users\\UserTBS1\\AppData\\Roaming\\nltk_data...\n",
      "[nltk_data]   Package stopwords is already up-to-date!\n"
     ]
    }
   ],
   "source": [
    "import numpy as np\n",
    "import heapq\n",
    "import re\n",
    "import unicodedata\n",
    "import pandas as pd\n",
    "import nltk\n",
    "from nltk.stem import PorterStemmer\n",
    "from nltk.stem import WordNetLemmatizer\n",
    "nltk.download('stopwords')\n",
    "from nltk.corpus import stopwords\n",
    "from sklearn.feature_extraction.text import TfidfVectorizer\n",
    "from sklearn.feature_extraction.text import CountVectorizer\n",
    "from sklearn import linear_model\n",
    "from sklearn.naive_bayes import MultinomialNB\n",
    "import ast\n",
    "from sklearn.externals import joblib"
   ]
  },
  {
   "cell_type": "markdown",
   "metadata": {},
   "source": [
    "#### 1. Proceso de conversión a minúsculas"
   ]
  },
  {
   "cell_type": "code",
   "execution_count": 117,
   "metadata": {},
   "outputs": [],
   "source": [
    "descripcion = [item.lower() for item in FAQ]\n",
    "preguntas = descripcion"
   ]
  },
  {
   "cell_type": "markdown",
   "metadata": {},
   "source": [
    "#### 2. Proceso de destrucción de tildes"
   ]
  },
  {
   "cell_type": "code",
   "execution_count": 118,
   "metadata": {},
   "outputs": [],
   "source": [
    "def normalize(preguntas):\n",
    "    return ''.join(unicodedata.normalize(\"NFD\",i)[0] for i in str(preguntas))\n",
    "preguntas = ast.literal_eval(normalize(preguntas))\n",
    "#Resultado: array donde cada elemento es una pregunta sin tildes y en minúscula\n"
   ]
  },
  {
   "cell_type": "markdown",
   "metadata": {},
   "source": [
    "#### 3. Destrucción de símbolos"
   ]
  },
  {
   "cell_type": "code",
   "execution_count": 119,
   "metadata": {},
   "outputs": [],
   "source": [
    "for i in range(len(preguntas)):\n",
    "    preguntas[i] = re.sub(\"\\W+\", \" \", preguntas[i])\n",
    "    preguntas[i] = re.sub(\"[^\\w]\", \" \", preguntas[i])\n",
    "    preguntas[i] = re.sub('[ \\t\\n]+', ' ', preguntas[i])\n",
    "    preguntas[i] = preguntas[i].strip()\n",
    "#Resultado: array donde cada elemento es una pregunta sin tildes, en minúscula y sin signos de interrogación"
   ]
  },
  {
   "cell_type": "markdown",
   "metadata": {},
   "source": [
    "#### 4. Stemming y eliminación de stopwords"
   ]
  },
  {
   "cell_type": "code",
   "execution_count": 120,
   "metadata": {},
   "outputs": [],
   "source": [
    "stemmer = PorterStemmer()\n",
    "my_list=stopwords.words('spanish')\n",
    "my_list.append('si')\n",
    "my_list.append('puedo')\n",
    "my_list.append('cuanto')\n",
    "my_list.append('cuanta')\n",
    "my_list.append('estan')\n",
    "my_list.append('hacer')\n",
    "\n",
    "#Stemmizando\n",
    "for i in range(len(preguntas)):\n",
    "    palabras = nltk.word_tokenize(preguntas[i])\n",
    "    nuevaspalabras = [stemmer.stem(palabra) for palabra in palabras]\n",
    "    preguntas[i]=' '.join(nuevaspalabras)\n",
    "\n",
    "#Quitando stopwords\n",
    "for i in range(len(preguntas)):\n",
    "    palabras = nltk.word_tokenize(preguntas[i])\n",
    "    nuevaspalabras = [stemmer.stem(palabra) for palabra in palabras]\n",
    "    nuevaspalabras = [palabra for palabra in palabras if palabra not in my_list]\n",
    "    preguntas[i]=' '.join(nuevaspalabras)"
   ]
  },
  {
   "cell_type": "code",
   "execution_count": 121,
   "metadata": {},
   "outputs": [
    {
     "data": {
      "text/plain": [
       "['abri cuenta web realizar operacion',\n",
       " 'cuenta sueldo bimoneda',\n",
       " 'pago mantenimiento cuenta sueldo tarjeta debito',\n",
       " 'operacion libr ventanilla',\n",
       " 'operacion libr cajero automatico bbva continent',\n",
       " 'usar tarjeta debito establecimiento comercial terminal po',\n",
       " 'dispon fondo cualquier momento',\n",
       " 'saldo cuenta sueldo cubierto fondo seguro deposito',\n",
       " 'dinero necesito abrir cuenta sueldo',\n",
       " 'nuevo deposito cuenta sueldo vez abierta',\n",
       " 'franquicia cuenta sueldo',\n",
       " 'mensualment recibo cuenta',\n",
       " 'twitter',\n",
       " 'necesito especi usar servicio',\n",
       " 'tweet',\n",
       " 'enviar actualizacion twitter',\n",
       " 'retweet',\n",
       " 'publico imagen twitter',\n",
       " 'editar tweet vez publiqu',\n",
       " 'activo modo nocturno',\n",
       " 'leen actualizacion',\n",
       " 'ver tweet perdieron',\n",
       " 'mostrar actualizacion twitter blog',\n",
       " 'significa seguir alguien twitter',\n",
       " 'encontrar persona seguir',\n",
       " 'siguiendo',\n",
       " 'sigu',\n",
       " 'limit seguimiento',\n",
       " 'respuesta',\n",
       " 'diferencia entr respuesta mensaj directo',\n",
       " 'mensaj directo',\n",
       " 'suspenden cuenta',\n",
       " 'denunciar spam',\n",
       " 'dond encontrar ma informacion sobr termino servicio twitter',\n",
       " 'enviar queja sobr problema relacionado derecho autor suplantacion identidad marca comercial u cuestion relacionada termino servicio']"
      ]
     },
     "execution_count": 121,
     "metadata": {},
     "output_type": "execute_result"
    }
   ],
   "source": [
    "preguntas"
   ]
  },
  {
   "cell_type": "markdown",
   "metadata": {},
   "source": [
    "#### 5. Creación de las \"autoetiquetas\" (target improvisado)"
   ]
  },
  {
   "cell_type": "code",
   "execution_count": 122,
   "metadata": {},
   "outputs": [],
   "source": [
    "def remove_char(s):\n",
    "        a=s[0]\n",
    "        b=s[len(s)-1]\n",
    "        nuevaletra=a+b\n",
    "        return nuevaletra\n",
    "\n",
    "intencion = [\"\" for x in range(len(preguntas))]\n",
    "for i in range(len(preguntas)):\n",
    "    palabras = nltk.word_tokenize(preguntas[i])\n",
    "    strs = [\"\" for x in range(len(palabras))]\n",
    "    for j in range(len(palabras)):\n",
    "        strs[j]=remove_char(palabras[j])\n",
    "    intencion[i]=''.join(strs)"
   ]
  },
  {
   "cell_type": "code",
   "execution_count": 123,
   "metadata": {
    "scrolled": false
   },
   "outputs": [
    {
     "data": {
      "text/plain": [
       "['aicawbrron',\n",
       " 'casoba',\n",
       " 'pomocasotado',\n",
       " 'onlrva',\n",
       " 'onlrcoaobact',\n",
       " 'urtadoeocltlpo',\n",
       " 'dnfocrmo',\n",
       " 'socasocofosodo',\n",
       " 'donoarcaso',\n",
       " 'nodocasovzaa',\n",
       " 'facaso',\n",
       " 'mtroca',\n",
       " 'tr',\n",
       " 'noeiurso',\n",
       " 'tt',\n",
       " 'erantr',\n",
       " 'rt',\n",
       " 'pointr',\n",
       " 'erttvzpu',\n",
       " 'aomono',\n",
       " 'lnan',\n",
       " 'vrttpn',\n",
       " 'mrantrbg',\n",
       " 'sasrantr',\n",
       " 'erpasr',\n",
       " 'so',\n",
       " 'su',\n",
       " 'ltso',\n",
       " 'ra',\n",
       " 'daerramjdo',\n",
       " 'mjdo',\n",
       " 'snca',\n",
       " 'drsm',\n",
       " 'ddermainsrtosotr',\n",
       " 'erqasrparodoarsnidmacluucnratoso']"
      ]
     },
     "execution_count": 123,
     "metadata": {},
     "output_type": "execute_result"
    }
   ],
   "source": [
    "intencion"
   ]
  },
  {
   "cell_type": "code",
   "execution_count": 124,
   "metadata": {},
   "outputs": [],
   "source": [
    "df_3=pd.DataFrame({'Descripcion':FAQ,'Intencion':intencion})\n",
    "df_3=df_3.sort_values(by='Intencion', ascending=True)\n",
    "descripcion_m=df_3['Descripcion']\n",
    "descripcion_m=descripcion_m.tolist()"
   ]
  },
  {
   "cell_type": "markdown",
   "metadata": {},
   "source": [
    "#### 6. Creamos el modelo TF-IDF"
   ]
  },
  {
   "cell_type": "code",
   "execution_count": 125,
   "metadata": {},
   "outputs": [],
   "source": [
    "word2count = {}\n",
    "for pregunta in preguntas:\n",
    "    palabras = nltk.word_tokenize(pregunta)\n",
    "    for palabra in palabras:\n",
    "        if palabra not in word2count.keys():\n",
    "           word2count[palabra] = 1\n",
    "        else:\n",
    "           word2count[palabra] += 1\n",
    "\n",
    "freq_words = heapq.nlargest(100000, word2count,key=word2count.get)\n",
    "\n",
    "# Diccionario IDF\n",
    "\n",
    "word_idfs = {}\n",
    "for palabra in freq_words:\n",
    "    doc_count = 0\n",
    "    for pregunta in preguntas:\n",
    "        if palabra in nltk.word_tokenize(pregunta):\n",
    "           doc_count += 1\n",
    "    word_idfs[palabra] = np.log(len(preguntas)/(1+doc_count))\n",
    "\n",
    "word_idfs\n",
    "\n",
    "# Matriz TF\n",
    "    \n",
    "tf_matrix = {}\n",
    "for palabra in freq_words:\n",
    "    doc_tf = []\n",
    "    for pregunta in preguntas:\n",
    "        frequency = 0\n",
    "        for w in nltk.word_tokenize(pregunta):\n",
    "            if palabra == w:\n",
    "               frequency += 1\n",
    "        tf_word = frequency/len(nltk.word_tokenize(pregunta))\n",
    "        doc_tf.append(tf_word)\n",
    "    tf_matrix[palabra] = doc_tf\n",
    "\n",
    "tf_matrix\n",
    "\n",
    "# Modelo tf-Idf\n",
    "\n",
    "tfidf_matrix = []\n",
    "for palabra in tf_matrix.keys():\n",
    "    tfidf = []\n",
    "    for value in tf_matrix[palabra]:\n",
    "        score = value * word_idfs[palabra]\n",
    "        tfidf.append(score)\n",
    "    tfidf_matrix.append(tfidf)   \n",
    "    \n",
    "tfidf_matrix    \n",
    "\n",
    "# Finalizando el Tf-Tdf model\n",
    "    \n",
    "X = np.asarray(tfidf_matrix)\n",
    "X = np.transpose(X)\n",
    "\n",
    "###########\n",
    "X_t=pd.DataFrame(X,columns=freq_words)\n",
    "\n",
    "X = pd.DataFrame(X,columns=freq_words)\n",
    "Y = pd.DataFrame(intencion,columns=['Intencion'])"
   ]
  },
  {
   "cell_type": "code",
   "execution_count": 141,
   "metadata": {},
   "outputs": [
    {
     "data": {
      "text/plain": [
       "{'abierta': 1,\n",
       " 'abri': 1,\n",
       " 'abrir': 1,\n",
       " 'activo': 1,\n",
       " 'actualizacion': 3,\n",
       " 'alguien': 1,\n",
       " 'automatico': 1,\n",
       " 'autor': 1,\n",
       " 'bbva': 1,\n",
       " 'bimoneda': 1,\n",
       " 'blog': 1,\n",
       " 'cajero': 1,\n",
       " 'comercial': 2,\n",
       " 'continent': 1,\n",
       " 'cualquier': 1,\n",
       " 'cubierto': 1,\n",
       " 'cuenta': 9,\n",
       " 'cuestion': 1,\n",
       " 'debito': 2,\n",
       " 'denunciar': 1,\n",
       " 'deposito': 2,\n",
       " 'derecho': 1,\n",
       " 'diferencia': 1,\n",
       " 'dinero': 1,\n",
       " 'directo': 2,\n",
       " 'dispon': 1,\n",
       " 'dond': 1,\n",
       " 'editar': 1,\n",
       " 'encontrar': 2,\n",
       " 'entr': 1,\n",
       " 'enviar': 2,\n",
       " 'especi': 1,\n",
       " 'establecimiento': 1,\n",
       " 'fondo': 2,\n",
       " 'franquicia': 1,\n",
       " 'identidad': 1,\n",
       " 'imagen': 1,\n",
       " 'informacion': 1,\n",
       " 'leen': 1,\n",
       " 'libr': 2,\n",
       " 'limit': 1,\n",
       " 'ma': 1,\n",
       " 'mantenimiento': 1,\n",
       " 'marca': 1,\n",
       " 'mensaj': 2,\n",
       " 'mensualment': 1,\n",
       " 'modo': 1,\n",
       " 'momento': 1,\n",
       " 'mostrar': 1,\n",
       " 'necesito': 2,\n",
       " 'nocturno': 1,\n",
       " 'nuevo': 1,\n",
       " 'operacion': 3,\n",
       " 'pago': 1,\n",
       " 'perdieron': 1,\n",
       " 'persona': 1,\n",
       " 'po': 1,\n",
       " 'problema': 1,\n",
       " 'publico': 1,\n",
       " 'publiqu': 1,\n",
       " 'queja': 1,\n",
       " 'realizar': 1,\n",
       " 'recibo': 1,\n",
       " 'relacionada': 1,\n",
       " 'relacionado': 1,\n",
       " 'respuesta': 2,\n",
       " 'retweet': 1,\n",
       " 'saldo': 1,\n",
       " 'seguimiento': 1,\n",
       " 'seguir': 2,\n",
       " 'seguro': 1,\n",
       " 'servicio': 3,\n",
       " 'significa': 1,\n",
       " 'sigu': 1,\n",
       " 'siguiendo': 1,\n",
       " 'sobr': 2,\n",
       " 'spam': 1,\n",
       " 'sueldo': 6,\n",
       " 'suplantacion': 1,\n",
       " 'suspenden': 1,\n",
       " 'tarjeta': 2,\n",
       " 'terminal': 1,\n",
       " 'termino': 2,\n",
       " 'tweet': 3,\n",
       " 'twitter': 6,\n",
       " 'u': 1,\n",
       " 'usar': 2,\n",
       " 'ventanilla': 1,\n",
       " 'ver': 1,\n",
       " 'vez': 2,\n",
       " 'web': 1}"
      ]
     },
     "execution_count": 141,
     "metadata": {},
     "output_type": "execute_result"
    }
   ],
   "source": [
    "word2count"
   ]
  },
  {
   "cell_type": "code",
   "execution_count": 126,
   "metadata": {},
   "outputs": [
    {
     "name": "stderr",
     "output_type": "stream",
     "text": [
      "C:\\Users\\UserTBS1\\Anaconda3\\lib\\site-packages\\sklearn\\utils\\validation.py:547: DataConversionWarning: A column-vector y was passed when a 1d array was expected. Please change the shape of y to (n_samples, ), for example using ravel().\n",
      "  y = column_or_1d(y, warn=True)\n"
     ]
    },
    {
     "data": {
      "text/plain": [
       "MultinomialNB(alpha=1.0, class_prior=None, fit_prior=True)"
      ]
     },
     "execution_count": 126,
     "metadata": {},
     "output_type": "execute_result"
    }
   ],
   "source": [
    "clf = MultinomialNB()\n",
    "clf.fit(X=X, y=Y)"
   ]
  },
  {
   "cell_type": "code",
   "execution_count": 127,
   "metadata": {},
   "outputs": [
    {
     "data": {
      "text/plain": [
       "array(['aicawbrron', 'aomono', 'casoba', 'daerramjdo', 'ddermainsrtosotr',\n",
       "       'dnfocrmo', 'donoarcaso', 'drsm', 'erantr', 'erpasr',\n",
       "       'erqasrparodoarsnidmacluucnratoso', 'erttvzpu', 'facaso', 'lnan',\n",
       "       'ltso', 'mjdo', 'mrantrbg', 'mtroca', 'nodocasovzaa', 'noeiurso',\n",
       "       'onlrcoaobact', 'onlrva', 'pointr', 'pomocasotado', 'ra', 'rt',\n",
       "       'sasrantr', 'snca', 'so', 'socasocofosodo', 'su', 'tr', 'tt',\n",
       "       'urtadoeocltlpo', 'vrttpn'], dtype='<U32')"
      ]
     },
     "execution_count": 127,
     "metadata": {},
     "output_type": "execute_result"
    }
   ],
   "source": [
    "clf.classes_"
   ]
  },
  {
   "cell_type": "code",
   "execution_count": 128,
   "metadata": {},
   "outputs": [
    {
     "data": {
      "text/plain": [
       "['sueldo_model_.joblib']"
      ]
     },
     "execution_count": 128,
     "metadata": {},
     "output_type": "execute_result"
    }
   ],
   "source": [
    "joblib.dump(clf, 'sueldo_model_.joblib') "
   ]
  },
  {
   "cell_type": "markdown",
   "metadata": {},
   "source": [
    "#### 7. Exportando las palabras frecuentes (objeto que se utilizará frecuentemente en cada predicción)"
   ]
  },
  {
   "cell_type": "code",
   "execution_count": 129,
   "metadata": {},
   "outputs": [
    {
     "data": {
      "text/plain": [
       "['freq_words_sueldo.joblib']"
      ]
     },
     "execution_count": 129,
     "metadata": {},
     "output_type": "execute_result"
    }
   ],
   "source": [
    "joblib.dump(freq_words, 'freq_words_sueldo.joblib') "
   ]
  },
  {
   "cell_type": "markdown",
   "metadata": {},
   "source": [
    "#### 8. Exportando las preguntas"
   ]
  },
  {
   "cell_type": "code",
   "execution_count": 130,
   "metadata": {},
   "outputs": [],
   "source": [
    "objects_sueldo = [freq_words, descripcion_m]"
   ]
  },
  {
   "cell_type": "code",
   "execution_count": 131,
   "metadata": {
    "scrolled": true
   },
   "outputs": [
    {
     "data": {
      "text/plain": [
       "['cuenta',\n",
       " 'sueldo',\n",
       " 'twitter',\n",
       " 'operacion',\n",
       " 'servicio',\n",
       " 'tweet',\n",
       " 'actualizacion',\n",
       " 'tarjeta',\n",
       " 'debito',\n",
       " 'libr',\n",
       " 'usar',\n",
       " 'comercial',\n",
       " 'fondo',\n",
       " 'deposito',\n",
       " 'necesito',\n",
       " 'vez',\n",
       " 'enviar',\n",
       " 'seguir',\n",
       " 'encontrar',\n",
       " 'respuesta',\n",
       " 'mensaj',\n",
       " 'directo',\n",
       " 'sobr',\n",
       " 'termino',\n",
       " 'abri',\n",
       " 'web',\n",
       " 'realizar',\n",
       " 'bimoneda',\n",
       " 'pago',\n",
       " 'mantenimiento',\n",
       " 'ventanilla',\n",
       " 'cajero',\n",
       " 'automatico',\n",
       " 'bbva',\n",
       " 'continent',\n",
       " 'establecimiento',\n",
       " 'terminal',\n",
       " 'po',\n",
       " 'dispon',\n",
       " 'cualquier',\n",
       " 'momento',\n",
       " 'saldo',\n",
       " 'cubierto',\n",
       " 'seguro',\n",
       " 'dinero',\n",
       " 'abrir',\n",
       " 'nuevo',\n",
       " 'abierta',\n",
       " 'franquicia',\n",
       " 'mensualment',\n",
       " 'recibo',\n",
       " 'especi',\n",
       " 'retweet',\n",
       " 'publico',\n",
       " 'imagen',\n",
       " 'editar',\n",
       " 'publiqu',\n",
       " 'activo',\n",
       " 'modo',\n",
       " 'nocturno',\n",
       " 'leen',\n",
       " 'ver',\n",
       " 'perdieron',\n",
       " 'mostrar',\n",
       " 'blog',\n",
       " 'significa',\n",
       " 'alguien',\n",
       " 'persona',\n",
       " 'siguiendo',\n",
       " 'sigu',\n",
       " 'limit',\n",
       " 'seguimiento',\n",
       " 'diferencia',\n",
       " 'entr',\n",
       " 'suspenden',\n",
       " 'denunciar',\n",
       " 'spam',\n",
       " 'dond',\n",
       " 'ma',\n",
       " 'informacion',\n",
       " 'queja',\n",
       " 'problema',\n",
       " 'relacionado',\n",
       " 'derecho',\n",
       " 'autor',\n",
       " 'suplantacion',\n",
       " 'identidad',\n",
       " 'marca',\n",
       " 'u',\n",
       " 'cuestion',\n",
       " 'relacionada']"
      ]
     },
     "execution_count": 131,
     "metadata": {},
     "output_type": "execute_result"
    }
   ],
   "source": [
    "objects_sueldo[0]"
   ]
  },
  {
   "cell_type": "code",
   "execution_count": 132,
   "metadata": {},
   "outputs": [
    {
     "data": {
      "text/plain": [
       "['Si abrí mi Cuenta por la web, ¿Cómo puedo realizar operaciones en ella?.',\n",
       " '¿Cómo activo el modo nocturno?',\n",
       " '¿Qué es una Cuenta Sueldo bimoneda?.',\n",
       " '¿Cuál es la diferencia entre una respuesta y un Mensaje Directo?',\n",
       " '¿Dónde puedo encontrar más información sobre los Términos de servicio de Twitter?',\n",
       " '¿Puedo disponer de los fondos en cualquier momento?.',\n",
       " '¿Cuánto dinero necesito para abrir una Cuenta Sueldo?.',\n",
       " '¿Cómo puedo denunciar el spam?',\n",
       " '¿Cómo puedo enviar actualizaciones a Twitter?',\n",
       " '¿Cómo puedo encontrar personas para seguir?',\n",
       " '¿Cómo puedo enviar una queja sobre problemas relacionados con los derechos de autor, la suplantación de identidad, las marcas comerciales u otras cuestiones relacionadas con los Términos de servicio?',\n",
       " '¿Puedo editar un Tweet una vez que lo publiqué?',\n",
       " '¿Qué es una franquicia en mi cuenta Sueldo?.',\n",
       " '¿Quiénes leen mis actualizaciones?',\n",
       " '¿Qué son los límites de seguimiento?',\n",
       " '¿Qué son los Mensajes Directos?',\n",
       " '¿Puedo mostrar mis actualizaciones de Twitter en mi blog?',\n",
       " '¿Mensualmente recibo estados de cuenta?.',\n",
       " '¿Puedo hacer nuevos depósitos en mi Cuenta Sueldo una vez abierta?.',\n",
       " '¿Necesito algo en especial para usar el servicio?',\n",
       " '¿Cuántas operaciones libres tengo en Cajeros Automáticos del BBVA Continental?.',\n",
       " '¿Cuántas operaciones libres tengo por ventanilla?.',\n",
       " '¿Cómo publico una imagen en Twitter?',\n",
       " '¿Cuánto pago al mes por mantenimiento de mi Cuenta Sueldo y mi Tarjeta de Débito?.',\n",
       " '¿Qué son las respuestas?',\n",
       " '¿Qué es un Retweet?',\n",
       " '¿Qué significa seguir a alguien en Twitter?',\n",
       " '¿Por qué se suspenden las cuentas?',\n",
       " '¿Cómo sé a quién estoy siguiendo?',\n",
       " '¿Los saldos de mi Cuenta Sueldo están cubiertos por el Fondo de Seguros de Depósito?.',\n",
       " '¿Cómo sé quién me sigue?',\n",
       " '¿Qué es Twitter?',\n",
       " '¿Qué es un Tweet?',\n",
       " '¿Puedo usar mi tarjeta de débito en establecimientos comerciales que tengan terminales POS?.',\n",
       " '¿Por qué no puedo ver todos mis Tweets? ¿Se perdieron?']"
      ]
     },
     "execution_count": 132,
     "metadata": {},
     "output_type": "execute_result"
    }
   ],
   "source": [
    "objects_sueldo[1]"
   ]
  },
  {
   "cell_type": "code",
   "execution_count": 133,
   "metadata": {},
   "outputs": [
    {
     "data": {
      "text/plain": [
       "['objects_sueldo.joblib']"
      ]
     },
     "execution_count": 133,
     "metadata": {},
     "output_type": "execute_result"
    }
   ],
   "source": [
    "joblib.dump(objects_sueldo, \"objects_sueldo.joblib\")"
   ]
  },
  {
   "cell_type": "code",
   "execution_count": null,
   "metadata": {},
   "outputs": [],
   "source": []
  },
  {
   "cell_type": "code",
   "execution_count": 134,
   "metadata": {},
   "outputs": [
    {
     "data": {
      "text/plain": [
       "['Si abrí mi Cuenta por la web, ¿Cómo puedo realizar operaciones en ella?.',\n",
       " '¿Cómo activo el modo nocturno?',\n",
       " '¿Qué es una Cuenta Sueldo bimoneda?.',\n",
       " '¿Cuál es la diferencia entre una respuesta y un Mensaje Directo?',\n",
       " '¿Dónde puedo encontrar más información sobre los Términos de servicio de Twitter?',\n",
       " '¿Puedo disponer de los fondos en cualquier momento?.',\n",
       " '¿Cuánto dinero necesito para abrir una Cuenta Sueldo?.',\n",
       " '¿Cómo puedo denunciar el spam?',\n",
       " '¿Cómo puedo enviar actualizaciones a Twitter?',\n",
       " '¿Cómo puedo encontrar personas para seguir?',\n",
       " '¿Cómo puedo enviar una queja sobre problemas relacionados con los derechos de autor, la suplantación de identidad, las marcas comerciales u otras cuestiones relacionadas con los Términos de servicio?',\n",
       " '¿Puedo editar un Tweet una vez que lo publiqué?',\n",
       " '¿Qué es una franquicia en mi cuenta Sueldo?.',\n",
       " '¿Quiénes leen mis actualizaciones?',\n",
       " '¿Qué son los límites de seguimiento?',\n",
       " '¿Qué son los Mensajes Directos?',\n",
       " '¿Puedo mostrar mis actualizaciones de Twitter en mi blog?',\n",
       " '¿Mensualmente recibo estados de cuenta?.',\n",
       " '¿Puedo hacer nuevos depósitos en mi Cuenta Sueldo una vez abierta?.',\n",
       " '¿Necesito algo en especial para usar el servicio?',\n",
       " '¿Cuántas operaciones libres tengo en Cajeros Automáticos del BBVA Continental?.',\n",
       " '¿Cuántas operaciones libres tengo por ventanilla?.',\n",
       " '¿Cómo publico una imagen en Twitter?',\n",
       " '¿Cuánto pago al mes por mantenimiento de mi Cuenta Sueldo y mi Tarjeta de Débito?.',\n",
       " '¿Qué son las respuestas?',\n",
       " '¿Qué es un Retweet?',\n",
       " '¿Qué significa seguir a alguien en Twitter?',\n",
       " '¿Por qué se suspenden las cuentas?',\n",
       " '¿Cómo sé a quién estoy siguiendo?',\n",
       " '¿Los saldos de mi Cuenta Sueldo están cubiertos por el Fondo de Seguros de Depósito?.',\n",
       " '¿Cómo sé quién me sigue?',\n",
       " '¿Qué es Twitter?',\n",
       " '¿Qué es un Tweet?',\n",
       " '¿Puedo usar mi tarjeta de débito en establecimientos comerciales que tengan terminales POS?.',\n",
       " '¿Por qué no puedo ver todos mis Tweets? ¿Se perdieron?']"
      ]
     },
     "execution_count": 134,
     "metadata": {},
     "output_type": "execute_result"
    }
   ],
   "source": [
    "descripcion_m"
   ]
  }
 ],
 "metadata": {
  "kernelspec": {
   "display_name": "Python 3",
   "language": "python",
   "name": "python3"
  },
  "language_info": {
   "codemirror_mode": {
    "name": "ipython",
    "version": 3
   },
   "file_extension": ".py",
   "mimetype": "text/x-python",
   "name": "python",
   "nbconvert_exporter": "python",
   "pygments_lexer": "ipython3",
   "version": "3.6.6"
  }
 },
 "nbformat": 4,
 "nbformat_minor": 2
}
