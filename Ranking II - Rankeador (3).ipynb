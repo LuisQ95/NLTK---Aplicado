{
 "cells": [
  {
   "cell_type": "markdown",
   "metadata": {},
   "source": [
    "# RANKING II - RANKEADOR"
   ]
  },
  {
   "cell_type": "code",
   "execution_count": 3104,
   "metadata": {},
   "outputs": [
    {
     "name": "stdout",
     "output_type": "stream",
     "text": [
      "[nltk_data] Downloading package stopwords to\n",
      "[nltk_data]     C:\\Users\\UserTBS1\\AppData\\Roaming\\nltk_data...\n",
      "[nltk_data]   Package stopwords is already up-to-date!\n"
     ]
    }
   ],
   "source": [
    "import numpy as np\n",
    "import heapq\n",
    "import re\n",
    "import unicodedata\n",
    "import pandas as pd\n",
    "import nltk\n",
    "from nltk.stem import PorterStemmer\n",
    "from nltk.stem import WordNetLemmatizer\n",
    "nltk.download('stopwords')\n",
    "from nltk.corpus import stopwords\n",
    "from sklearn.feature_extraction.text import TfidfVectorizer\n",
    "from sklearn.feature_extraction.text import CountVectorizer\n",
    "from sklearn import linear_model\n",
    "from sklearn.naive_bayes import MultinomialNB\n",
    "import ast\n",
    "from sklearn.externals import joblib"
   ]
  },
  {
   "cell_type": "markdown",
   "metadata": {},
   "source": [
    "\n",
    "De alguna forma, la pregunta llega a través de servicios y apoyada en el parámetro, usará el modelo que le corresponda."
   ]
  },
  {
   "cell_type": "code",
   "execution_count": 3105,
   "metadata": {},
   "outputs": [],
   "source": [
    "1 #Si abrí mi Cuenta por la web, ¿Cómo puedo realizar operaciones en ella?.\n",
    "2 #¿Qué es una Cuenta Sueldo bimoneda?.\n",
    "3 #¿Puedo disponer de los fondos en cualquier momento?.\n",
    "4 #¿Cuánto dinero necesito para abrir una Cuenta Sueldo?.\n",
    "5 #¿Qué es una franquicia en mi cuenta Sueldo?.\n",
    "6 #¿Mensualmente recibo estados de cuenta?.\n",
    "7 #¿Puedo hacer nuevos depósitos en mi Cuenta Sueldo una vez abierta?.\n",
    "8 #¿Cuántas operaciones libres tengo en Cajeros Automáticos del BBVA Continental?.\n",
    "9 #¿Cuántas operaciones libres tengo por ventanilla?.\n",
    "10#¿Cuánto pago al mes por mantenimiento de mi Cuenta Sueldo y mi Tarjeta de Débito?.\n",
    "11#¿Los saldos de mi Cuenta Sueldo están cubiertos por el Fondo de Seguros de Depósito?.\n",
    "12#¿Puedo usar mi tarjeta de débito en establecimientos comerciales que tengan terminales POS?.\n",
    "#intento=\"¿Puedo disponer de los fondos en cualquier momento?\"\n",
    "#intento=\"¿quiero saber si es posible disponer de mis fondos en cualquier momento?\"\n",
    "#intento = \"¿Puedo disponer de los fondos en cualquier momento?\"\n",
    "#intento = \"¿Cuánto dinero necesito para abrir una Cuenta Sueldo?\" \n",
    "intento = \"cuando puedo disponer de mis fondos\" "
   ]
  },
  {
   "cell_type": "code",
   "execution_count": 3106,
   "metadata": {},
   "outputs": [
    {
     "data": {
      "text/plain": [
       "array(['aicawbrron', 'aomono', 'casoba', 'daerramjdo', 'ddermainsrtosotr',\n",
       "       'dnfocrmo', 'donoarcaso', 'drsm', 'erantr', 'erpasr',\n",
       "       'erqasrparodoarsnidmacluucnratoso', 'erttvzpu', 'facaso', 'lnan',\n",
       "       'ltso', 'mjdo', 'mrantrbg', 'mtroca', 'nodocasovzaa', 'noeiurso',\n",
       "       'onlrcoaobact', 'onlrva', 'pointr', 'pomocasotado', 'ra', 'rt',\n",
       "       'sasrantr', 'snca', 'so', 'socasocofosodo', 'su', 'tr', 'tt',\n",
       "       'urtadoeocltlpo', 'vrttpn'], dtype='<U32')"
      ]
     },
     "execution_count": 3106,
     "metadata": {},
     "output_type": "execute_result"
    }
   ],
   "source": [
    "parametro = \"sueldo\"\n",
    "\n",
    "# Sí parámero == sueldo\n",
    "clf =joblib.load(\"sueldo_model_.joblib\")\n",
    "clf.classes_"
   ]
  },
  {
   "cell_type": "markdown",
   "metadata": {},
   "source": [
    "#### 1. Proceso de conversión a minúsculas"
   ]
  },
  {
   "cell_type": "code",
   "execution_count": 3107,
   "metadata": {},
   "outputs": [],
   "source": [
    "intento = intento.lower()"
   ]
  },
  {
   "cell_type": "markdown",
   "metadata": {},
   "source": [
    "#### 2. Proceso de destrucción de tildes"
   ]
  },
  {
   "cell_type": "code",
   "execution_count": 3108,
   "metadata": {},
   "outputs": [],
   "source": [
    "def normalize(preguntas):\n",
    "    return ''.join(unicodedata.normalize(\"NFD\",i)[0] for i in str(preguntas))"
   ]
  },
  {
   "cell_type": "code",
   "execution_count": 3109,
   "metadata": {},
   "outputs": [],
   "source": [
    "intento = ''.join(normalize(c) for c in str(intento))"
   ]
  },
  {
   "cell_type": "markdown",
   "metadata": {},
   "source": [
    "#### 3. Destrucción de símbolos"
   ]
  },
  {
   "cell_type": "code",
   "execution_count": 3110,
   "metadata": {},
   "outputs": [],
   "source": [
    "intento_preg = [intento]\n",
    "intento_preg\n",
    "for i in range(len(intento_preg)):\n",
    "    intento_preg[i] = re.sub(\"\\W+\", \" \", intento_preg[i])\n",
    "    intento_preg[i] = re.sub(\"[^\\w]\", \" \", intento_preg[i])\n",
    "    intento_preg[i] = re.sub('[ \\t\\n]+', ' ', intento_preg[i])\n",
    "    intento_preg[i] = intento_preg[i].strip()"
   ]
  },
  {
   "cell_type": "markdown",
   "metadata": {},
   "source": [
    "#### 4. Stemming y eliminación de stopwords"
   ]
  },
  {
   "cell_type": "code",
   "execution_count": 3111,
   "metadata": {},
   "outputs": [],
   "source": [
    "stemmer = PorterStemmer()\n",
    "\n",
    "for i in range(len(intento_preg)):\n",
    "    palabras = nltk.word_tokenize(intento_preg[i])\n",
    "    nuevaspalabras = [stemmer.stem(palabra) for palabra in intento_preg]\n",
    "    intento_preg[i]=' '.join(nuevaspalabras)\n",
    "\n",
    "intento_preg\n",
    "\n",
    "my_list=stopwords.words('spanish')\n",
    "my_list.append('si')\n",
    "my_list.append('puedo')\n",
    "my_list.append('cuanto')\n",
    "my_list.append('cuanta')\n",
    "my_list.append('estan')\n",
    "my_list.append('hacer')\n",
    "    \n",
    "for i in range(len(intento_preg)):\n",
    "    palabras = nltk.word_tokenize(intento_preg[i])\n",
    "    nuevaspalabras = [palabra for palabra in palabras if palabra not in my_list]\n",
    " "
   ]
  },
  {
   "cell_type": "code",
   "execution_count": 3112,
   "metadata": {},
   "outputs": [
    {
     "data": {
      "text/plain": [
       "['cuando', 'puedo', 'disponer', 'de', 'mis', 'fondo']"
      ]
     },
     "execution_count": 3112,
     "metadata": {},
     "output_type": "execute_result"
    }
   ],
   "source": [
    " nltk.word_tokenize(intento_preg[i])"
   ]
  },
  {
   "cell_type": "code",
   "execution_count": 3113,
   "metadata": {},
   "outputs": [
    {
     "data": {
      "text/plain": [
       "['cuando', 'puedo', 'dispon', 'de', 'mi', 'fondo']"
      ]
     },
     "execution_count": 3113,
     "metadata": {},
     "output_type": "execute_result"
    }
   ],
   "source": [
    "[stemmer.stem(palabra) for palabra in palabras]"
   ]
  },
  {
   "cell_type": "code",
   "execution_count": 3114,
   "metadata": {},
   "outputs": [],
   "source": [
    "for i in range(len(intento_preg)):\n",
    "    palabras = nltk.word_tokenize(intento_preg[i])\n",
    "    nuevaspalabras = [stemmer.stem(palabra) for palabra in palabras]\n",
    "    intento_preg[i]=' '.join(nuevaspalabras)"
   ]
  },
  {
   "cell_type": "code",
   "execution_count": 3115,
   "metadata": {},
   "outputs": [
    {
     "data": {
      "text/plain": [
       "['cuando puedo dispon de mi fondo']"
      ]
     },
     "execution_count": 3115,
     "metadata": {},
     "output_type": "execute_result"
    }
   ],
   "source": [
    "intento_preg"
   ]
  },
  {
   "cell_type": "markdown",
   "metadata": {},
   "source": [
    "#### 5. Creando el modelo TF-IDF  [PROBLEMA!!!: Necesito la lista freq_words]"
   ]
  },
  {
   "cell_type": "markdown",
   "metadata": {},
   "source": [
    "##### 5.1 Invocando al objeto freq_words a partir del archivo freq_words.joblib"
   ]
  },
  {
   "cell_type": "code",
   "execution_count": 3116,
   "metadata": {},
   "outputs": [
    {
     "data": {
      "text/plain": [
       "['cuenta',\n",
       " 'sueldo',\n",
       " 'twitter',\n",
       " 'operacion',\n",
       " 'servicio',\n",
       " 'tweet',\n",
       " 'actualizacion',\n",
       " 'tarjeta',\n",
       " 'debito',\n",
       " 'libr',\n",
       " 'usar',\n",
       " 'comercial',\n",
       " 'fondo',\n",
       " 'deposito',\n",
       " 'necesito',\n",
       " 'vez',\n",
       " 'enviar',\n",
       " 'seguir',\n",
       " 'encontrar',\n",
       " 'respuesta',\n",
       " 'mensaj',\n",
       " 'directo',\n",
       " 'sobr',\n",
       " 'termino',\n",
       " 'abri',\n",
       " 'web',\n",
       " 'realizar',\n",
       " 'bimoneda',\n",
       " 'pago',\n",
       " 'mantenimiento',\n",
       " 'ventanilla',\n",
       " 'cajero',\n",
       " 'automatico',\n",
       " 'bbva',\n",
       " 'continent',\n",
       " 'establecimiento',\n",
       " 'terminal',\n",
       " 'po',\n",
       " 'dispon',\n",
       " 'cualquier',\n",
       " 'momento',\n",
       " 'saldo',\n",
       " 'cubierto',\n",
       " 'seguro',\n",
       " 'dinero',\n",
       " 'abrir',\n",
       " 'nuevo',\n",
       " 'abierta',\n",
       " 'franquicia',\n",
       " 'mensualment',\n",
       " 'recibo',\n",
       " 'especi',\n",
       " 'retweet',\n",
       " 'publico',\n",
       " 'imagen',\n",
       " 'editar',\n",
       " 'publiqu',\n",
       " 'activo',\n",
       " 'modo',\n",
       " 'nocturno',\n",
       " 'leen',\n",
       " 'ver',\n",
       " 'perdieron',\n",
       " 'mostrar',\n",
       " 'blog',\n",
       " 'significa',\n",
       " 'alguien',\n",
       " 'persona',\n",
       " 'siguiendo',\n",
       " 'sigu',\n",
       " 'limit',\n",
       " 'seguimiento',\n",
       " 'diferencia',\n",
       " 'entr',\n",
       " 'suspenden',\n",
       " 'denunciar',\n",
       " 'spam',\n",
       " 'dond',\n",
       " 'ma',\n",
       " 'informacion',\n",
       " 'queja',\n",
       " 'problema',\n",
       " 'relacionado',\n",
       " 'derecho',\n",
       " 'autor',\n",
       " 'suplantacion',\n",
       " 'identidad',\n",
       " 'marca',\n",
       " 'u',\n",
       " 'cuestion',\n",
       " 'relacionada']"
      ]
     },
     "execution_count": 3116,
     "metadata": {},
     "output_type": "execute_result"
    }
   ],
   "source": [
    "objects_sueldo =joblib.load(\"objects_sueldo.joblib\")\n",
    "freq_words = objects_sueldo[0]\n",
    "freq_words"
   ]
  },
  {
   "cell_type": "code",
   "execution_count": 3117,
   "metadata": {
    "scrolled": false
   },
   "outputs": [],
   "source": [
    "# IDF Dictionary\n",
    "\n",
    "word_idfs_test = {}\n",
    "for palabra in freq_words:\n",
    "    doc_count = 0\n",
    "    for pregunta in intento_preg:\n",
    "        if palabra in nltk.word_tokenize(pregunta):\n",
    "           doc_count += 1\n",
    "    word_idfs_test[palabra] = abs(np.log(len(intento_preg)/(doc_count+1)))\n",
    "\n",
    "word_idfs_test\n",
    "\n",
    "# TF Matrix\n",
    "    \n",
    "tf_matrix_test = {}\n",
    "for palabra in freq_words:\n",
    "    doc_tf = []\n",
    "    for pregunta in intento_preg:\n",
    "        frequency = 0\n",
    "        for w in nltk.word_tokenize(pregunta):\n",
    "            if palabra == w:\n",
    "               frequency += 1\n",
    "        tf_word = frequency/len(nltk.word_tokenize(pregunta))\n",
    "        doc_tf.append(tf_word)\n",
    "    tf_matrix_test[palabra] = doc_tf\n",
    "\n",
    "tf_matrix_test\n",
    "\n",
    "# Creating the Tf-Idf Model\n",
    "    \n",
    "tfidf_matrix_test = []\n",
    "for palabra in tf_matrix_test.keys():\n",
    "    tfidf_test = []\n",
    "    for value in tf_matrix_test[palabra]:\n",
    "        score = value * word_idfs_test[palabra]\n",
    "        tfidf_test.append(score)\n",
    "    tfidf_matrix_test.append(tfidf_test)   \n",
    "\n",
    "tfidf_matrix_test\n",
    "# Finishing the Tf-Tdf model\n",
    "    \n",
    "X_test = np.asarray(tfidf_matrix_test)\n",
    "X_test = np.transpose(X_test)\n",
    "\n",
    "###########\n",
    "\n",
    "X_test=pd.DataFrame(X_test,columns=freq_words)"
   ]
  },
  {
   "cell_type": "code",
   "execution_count": 3118,
   "metadata": {},
   "outputs": [
    {
     "data": {
      "text/html": [
       "<div>\n",
       "<style scoped>\n",
       "    .dataframe tbody tr th:only-of-type {\n",
       "        vertical-align: middle;\n",
       "    }\n",
       "\n",
       "    .dataframe tbody tr th {\n",
       "        vertical-align: top;\n",
       "    }\n",
       "\n",
       "    .dataframe thead th {\n",
       "        text-align: right;\n",
       "    }\n",
       "</style>\n",
       "<table border=\"1\" class=\"dataframe\">\n",
       "  <thead>\n",
       "    <tr style=\"text-align: right;\">\n",
       "      <th></th>\n",
       "      <th>cuenta</th>\n",
       "      <th>sueldo</th>\n",
       "      <th>twitter</th>\n",
       "      <th>operacion</th>\n",
       "      <th>servicio</th>\n",
       "      <th>tweet</th>\n",
       "      <th>actualizacion</th>\n",
       "      <th>tarjeta</th>\n",
       "      <th>debito</th>\n",
       "      <th>libr</th>\n",
       "      <th>...</th>\n",
       "      <th>problema</th>\n",
       "      <th>relacionado</th>\n",
       "      <th>derecho</th>\n",
       "      <th>autor</th>\n",
       "      <th>suplantacion</th>\n",
       "      <th>identidad</th>\n",
       "      <th>marca</th>\n",
       "      <th>u</th>\n",
       "      <th>cuestion</th>\n",
       "      <th>relacionada</th>\n",
       "    </tr>\n",
       "  </thead>\n",
       "  <tbody>\n",
       "    <tr>\n",
       "      <th>0</th>\n",
       "      <td>0.0</td>\n",
       "      <td>0.0</td>\n",
       "      <td>0.0</td>\n",
       "      <td>0.0</td>\n",
       "      <td>0.0</td>\n",
       "      <td>0.0</td>\n",
       "      <td>0.0</td>\n",
       "      <td>0.0</td>\n",
       "      <td>0.0</td>\n",
       "      <td>0.0</td>\n",
       "      <td>...</td>\n",
       "      <td>0.0</td>\n",
       "      <td>0.0</td>\n",
       "      <td>0.0</td>\n",
       "      <td>0.0</td>\n",
       "      <td>0.0</td>\n",
       "      <td>0.0</td>\n",
       "      <td>0.0</td>\n",
       "      <td>0.0</td>\n",
       "      <td>0.0</td>\n",
       "      <td>0.0</td>\n",
       "    </tr>\n",
       "  </tbody>\n",
       "</table>\n",
       "<p>1 rows × 91 columns</p>\n",
       "</div>"
      ],
      "text/plain": [
       "   cuenta  sueldo  twitter  operacion  servicio  tweet  actualizacion  \\\n",
       "0     0.0     0.0      0.0        0.0       0.0    0.0            0.0   \n",
       "\n",
       "   tarjeta  debito  libr     ...       problema  relacionado  derecho  autor  \\\n",
       "0      0.0     0.0   0.0     ...            0.0          0.0      0.0    0.0   \n",
       "\n",
       "   suplantacion  identidad  marca    u  cuestion  relacionada  \n",
       "0           0.0        0.0    0.0  0.0       0.0          0.0  \n",
       "\n",
       "[1 rows x 91 columns]"
      ]
     },
     "execution_count": 3118,
     "metadata": {},
     "output_type": "execute_result"
    }
   ],
   "source": [
    "X_test"
   ]
  },
  {
   "cell_type": "code",
   "execution_count": 3119,
   "metadata": {},
   "outputs": [
    {
     "data": {
      "text/plain": [
       "0    0.0\n",
       "Name: libr, dtype: float64"
      ]
     },
     "execution_count": 3119,
     "metadata": {},
     "output_type": "execute_result"
    }
   ],
   "source": [
    "X_test[\"libr\"]"
   ]
  },
  {
   "cell_type": "code",
   "execution_count": 3120,
   "metadata": {},
   "outputs": [
    {
     "data": {
      "text/plain": [
       "{'abierta': 0.0,\n",
       " 'abri': 0.0,\n",
       " 'abrir': 0.0,\n",
       " 'activo': 0.0,\n",
       " 'actualizacion': 0.0,\n",
       " 'alguien': 0.0,\n",
       " 'automatico': 0.0,\n",
       " 'autor': 0.0,\n",
       " 'bbva': 0.0,\n",
       " 'bimoneda': 0.0,\n",
       " 'blog': 0.0,\n",
       " 'cajero': 0.0,\n",
       " 'comercial': 0.0,\n",
       " 'continent': 0.0,\n",
       " 'cualquier': 0.0,\n",
       " 'cubierto': 0.0,\n",
       " 'cuenta': 0.0,\n",
       " 'cuestion': 0.0,\n",
       " 'debito': 0.0,\n",
       " 'denunciar': 0.0,\n",
       " 'deposito': 0.0,\n",
       " 'derecho': 0.0,\n",
       " 'diferencia': 0.0,\n",
       " 'dinero': 0.0,\n",
       " 'directo': 0.0,\n",
       " 'dispon': 0.6931471805599453,\n",
       " 'dond': 0.0,\n",
       " 'editar': 0.0,\n",
       " 'encontrar': 0.0,\n",
       " 'entr': 0.0,\n",
       " 'enviar': 0.0,\n",
       " 'especi': 0.0,\n",
       " 'establecimiento': 0.0,\n",
       " 'fondo': 0.6931471805599453,\n",
       " 'franquicia': 0.0,\n",
       " 'identidad': 0.0,\n",
       " 'imagen': 0.0,\n",
       " 'informacion': 0.0,\n",
       " 'leen': 0.0,\n",
       " 'libr': 0.0,\n",
       " 'limit': 0.0,\n",
       " 'ma': 0.0,\n",
       " 'mantenimiento': 0.0,\n",
       " 'marca': 0.0,\n",
       " 'mensaj': 0.0,\n",
       " 'mensualment': 0.0,\n",
       " 'modo': 0.0,\n",
       " 'momento': 0.0,\n",
       " 'mostrar': 0.0,\n",
       " 'necesito': 0.0,\n",
       " 'nocturno': 0.0,\n",
       " 'nuevo': 0.0,\n",
       " 'operacion': 0.0,\n",
       " 'pago': 0.0,\n",
       " 'perdieron': 0.0,\n",
       " 'persona': 0.0,\n",
       " 'po': 0.0,\n",
       " 'problema': 0.0,\n",
       " 'publico': 0.0,\n",
       " 'publiqu': 0.0,\n",
       " 'queja': 0.0,\n",
       " 'realizar': 0.0,\n",
       " 'recibo': 0.0,\n",
       " 'relacionada': 0.0,\n",
       " 'relacionado': 0.0,\n",
       " 'respuesta': 0.0,\n",
       " 'retweet': 0.0,\n",
       " 'saldo': 0.0,\n",
       " 'seguimiento': 0.0,\n",
       " 'seguir': 0.0,\n",
       " 'seguro': 0.0,\n",
       " 'servicio': 0.0,\n",
       " 'significa': 0.0,\n",
       " 'sigu': 0.0,\n",
       " 'siguiendo': 0.0,\n",
       " 'sobr': 0.0,\n",
       " 'spam': 0.0,\n",
       " 'sueldo': 0.0,\n",
       " 'suplantacion': 0.0,\n",
       " 'suspenden': 0.0,\n",
       " 'tarjeta': 0.0,\n",
       " 'terminal': 0.0,\n",
       " 'termino': 0.0,\n",
       " 'tweet': 0.0,\n",
       " 'twitter': 0.0,\n",
       " 'u': 0.0,\n",
       " 'usar': 0.0,\n",
       " 'ventanilla': 0.0,\n",
       " 'ver': 0.0,\n",
       " 'vez': 0.0,\n",
       " 'web': 0.0}"
      ]
     },
     "execution_count": 3120,
     "metadata": {},
     "output_type": "execute_result"
    }
   ],
   "source": [
    "word_idfs_test"
   ]
  },
  {
   "cell_type": "code",
   "execution_count": 3121,
   "metadata": {
    "scrolled": true
   },
   "outputs": [
    {
     "data": {
      "text/plain": [
       "array(['dnfocrmo'], dtype='<U32')"
      ]
     },
     "execution_count": 3121,
     "metadata": {},
     "output_type": "execute_result"
    }
   ],
   "source": [
    "predict_int=clf.predict(X_test)\n",
    "predict_int"
   ]
  },
  {
   "cell_type": "code",
   "execution_count": 3122,
   "metadata": {},
   "outputs": [
    {
     "data": {
      "text/plain": [
       "array([[0.02844523, 0.02841292, 0.02848007, 0.02842996, 0.02844064,\n",
       "        0.03196887, 0.02845883, 0.02841292, 0.02846802, 0.02843186,\n",
       "        0.02842305, 0.02843217, 0.02848007, 0.02843722, 0.02841292,\n",
       "        0.02844136, 0.02844706, 0.02845058, 0.02845591, 0.02843929,\n",
       "        0.02842574, 0.0284386 , 0.02844221, 0.02845591, 0.02844136,\n",
       "        0.02841292, 0.028442  , 0.0284695 , 0.02841292, 0.02945581,\n",
       "        0.02841292, 0.02850127, 0.02846162, 0.02842915, 0.02842911]])"
      ]
     },
     "execution_count": 3122,
     "metadata": {},
     "output_type": "execute_result"
    }
   ],
   "source": [
    "predict_probas=clf.predict_proba(X_test) \n",
    "predict_probas"
   ]
  },
  {
   "cell_type": "code",
   "execution_count": 3123,
   "metadata": {},
   "outputs": [
    {
     "data": {
      "text/plain": [
       "array([0.0284, 0.0284, 0.0285, 0.0284, 0.0284, 0.032 , 0.0285, 0.0284,\n",
       "       0.0285, 0.0284, 0.0284, 0.0284, 0.0285, 0.0284, 0.0284, 0.0284,\n",
       "       0.0284, 0.0285, 0.0285, 0.0284, 0.0284, 0.0284, 0.0284, 0.0285,\n",
       "       0.0284, 0.0284, 0.0284, 0.0285, 0.0284, 0.0295, 0.0284, 0.0285,\n",
       "       0.0285, 0.0284, 0.0284])"
      ]
     },
     "execution_count": 3123,
     "metadata": {},
     "output_type": "execute_result"
    }
   ],
   "source": [
    "predict_probas=np.concatenate(np.round(predict_probas,4))\n",
    "predict_probas\n"
   ]
  },
  {
   "cell_type": "code",
   "execution_count": 3124,
   "metadata": {},
   "outputs": [
    {
     "data": {
      "text/plain": [
       "array([0.0284, 0.0284, 0.0284, 0.0284, 0.0284, 0.0284, 0.0284, 0.0284,\n",
       "       0.0284, 0.0284, 0.0284, 0.0284, 0.0284, 0.0284, 0.0284, 0.0284,\n",
       "       0.0284, 0.0284, 0.0284, 0.0284, 0.0284, 0.0284, 0.0284, 0.0285,\n",
       "       0.0285, 0.0285, 0.0285, 0.0285, 0.0285, 0.0285, 0.0285, 0.0285,\n",
       "       0.0285, 0.0295, 0.032 ])"
      ]
     },
     "execution_count": 3124,
     "metadata": {},
     "output_type": "execute_result"
    }
   ],
   "source": [
    "order_probs=np.sort(predict_probas)\n",
    "order_probs\n"
   ]
  },
  {
   "cell_type": "code",
   "execution_count": 3125,
   "metadata": {},
   "outputs": [
    {
     "data": {
      "text/plain": [
       "0.0006174073507293977"
      ]
     },
     "execution_count": 3125,
     "metadata": {},
     "output_type": "execute_result"
    }
   ],
   "source": [
    "order_probs.std()"
   ]
  },
  {
   "cell_type": "code",
   "execution_count": 3126,
   "metadata": {
    "scrolled": true
   },
   "outputs": [
    {
     "data": {
      "text/plain": [
       "0.0285"
      ]
     },
     "execution_count": 3126,
     "metadata": {},
     "output_type": "execute_result"
    }
   ],
   "source": [
    "prob_lim=order_probs[len(order_probs)-3]\n",
    "prob_lim"
   ]
  },
  {
   "cell_type": "code",
   "execution_count": 3127,
   "metadata": {},
   "outputs": [
    {
     "data": {
      "text/plain": [
       "array([ 2,  5,  6,  8, 12, 17, 18, 23, 27, 29, 31, 32], dtype=int64)"
      ]
     },
     "execution_count": 3127,
     "metadata": {},
     "output_type": "execute_result"
    }
   ],
   "source": [
    "pos_probs=np.where(predict_probas>=prob_lim)[0]\n",
    "pos_probs"
   ]
  },
  {
   "cell_type": "code",
   "execution_count": 3128,
   "metadata": {},
   "outputs": [
    {
     "data": {
      "text/plain": [
       "array([0.0285, 0.032 , 0.0285, 0.0285, 0.0285, 0.0285, 0.0285, 0.0285,\n",
       "       0.0285, 0.0295, 0.0285, 0.0285])"
      ]
     },
     "execution_count": 3128,
     "metadata": {},
     "output_type": "execute_result"
    }
   ],
   "source": [
    "probs=predict_probas[pos_probs]\n",
    "probs"
   ]
  },
  {
   "cell_type": "code",
   "execution_count": 3129,
   "metadata": {},
   "outputs": [
    {
     "data": {
      "text/html": [
       "<div>\n",
       "<style scoped>\n",
       "    .dataframe tbody tr th:only-of-type {\n",
       "        vertical-align: middle;\n",
       "    }\n",
       "\n",
       "    .dataframe tbody tr th {\n",
       "        vertical-align: top;\n",
       "    }\n",
       "\n",
       "    .dataframe thead th {\n",
       "        text-align: right;\n",
       "    }\n",
       "</style>\n",
       "<table border=\"1\" class=\"dataframe\">\n",
       "  <thead>\n",
       "    <tr style=\"text-align: right;\">\n",
       "      <th></th>\n",
       "      <th>probas</th>\n",
       "      <th>posicion</th>\n",
       "    </tr>\n",
       "  </thead>\n",
       "  <tbody>\n",
       "    <tr>\n",
       "      <th>0</th>\n",
       "      <td>0.0285</td>\n",
       "      <td>2</td>\n",
       "    </tr>\n",
       "    <tr>\n",
       "      <th>1</th>\n",
       "      <td>0.0320</td>\n",
       "      <td>5</td>\n",
       "    </tr>\n",
       "    <tr>\n",
       "      <th>2</th>\n",
       "      <td>0.0285</td>\n",
       "      <td>6</td>\n",
       "    </tr>\n",
       "    <tr>\n",
       "      <th>3</th>\n",
       "      <td>0.0285</td>\n",
       "      <td>8</td>\n",
       "    </tr>\n",
       "    <tr>\n",
       "      <th>4</th>\n",
       "      <td>0.0285</td>\n",
       "      <td>12</td>\n",
       "    </tr>\n",
       "    <tr>\n",
       "      <th>5</th>\n",
       "      <td>0.0285</td>\n",
       "      <td>17</td>\n",
       "    </tr>\n",
       "    <tr>\n",
       "      <th>6</th>\n",
       "      <td>0.0285</td>\n",
       "      <td>18</td>\n",
       "    </tr>\n",
       "    <tr>\n",
       "      <th>7</th>\n",
       "      <td>0.0285</td>\n",
       "      <td>23</td>\n",
       "    </tr>\n",
       "    <tr>\n",
       "      <th>8</th>\n",
       "      <td>0.0285</td>\n",
       "      <td>27</td>\n",
       "    </tr>\n",
       "    <tr>\n",
       "      <th>9</th>\n",
       "      <td>0.0295</td>\n",
       "      <td>29</td>\n",
       "    </tr>\n",
       "    <tr>\n",
       "      <th>10</th>\n",
       "      <td>0.0285</td>\n",
       "      <td>31</td>\n",
       "    </tr>\n",
       "    <tr>\n",
       "      <th>11</th>\n",
       "      <td>0.0285</td>\n",
       "      <td>32</td>\n",
       "    </tr>\n",
       "  </tbody>\n",
       "</table>\n",
       "</div>"
      ],
      "text/plain": [
       "    probas  posicion\n",
       "0   0.0285         2\n",
       "1   0.0320         5\n",
       "2   0.0285         6\n",
       "3   0.0285         8\n",
       "4   0.0285        12\n",
       "5   0.0285        17\n",
       "6   0.0285        18\n",
       "7   0.0285        23\n",
       "8   0.0285        27\n",
       "9   0.0295        29\n",
       "10  0.0285        31\n",
       "11  0.0285        32"
      ]
     },
     "execution_count": 3129,
     "metadata": {},
     "output_type": "execute_result"
    }
   ],
   "source": [
    "df_probas=pd.DataFrame({'probas':probs,'posicion':pos_probs})\n",
    "df_probas"
   ]
  },
  {
   "cell_type": "code",
   "execution_count": 3168,
   "metadata": {},
   "outputs": [
    {
     "data": {
      "text/html": [
       "<div>\n",
       "<style scoped>\n",
       "    .dataframe tbody tr th:only-of-type {\n",
       "        vertical-align: middle;\n",
       "    }\n",
       "\n",
       "    .dataframe tbody tr th {\n",
       "        vertical-align: top;\n",
       "    }\n",
       "\n",
       "    .dataframe thead th {\n",
       "        text-align: right;\n",
       "    }\n",
       "</style>\n",
       "<table border=\"1\" class=\"dataframe\">\n",
       "  <thead>\n",
       "    <tr style=\"text-align: right;\">\n",
       "      <th></th>\n",
       "      <th>probas</th>\n",
       "      <th>posicion</th>\n",
       "    </tr>\n",
       "  </thead>\n",
       "  <tbody>\n",
       "    <tr>\n",
       "      <th>1</th>\n",
       "      <td>0.0320</td>\n",
       "      <td>5</td>\n",
       "    </tr>\n",
       "    <tr>\n",
       "      <th>9</th>\n",
       "      <td>0.0295</td>\n",
       "      <td>29</td>\n",
       "    </tr>\n",
       "    <tr>\n",
       "      <th>0</th>\n",
       "      <td>0.0285</td>\n",
       "      <td>2</td>\n",
       "    </tr>\n",
       "    <tr>\n",
       "      <th>2</th>\n",
       "      <td>0.0285</td>\n",
       "      <td>6</td>\n",
       "    </tr>\n",
       "    <tr>\n",
       "      <th>3</th>\n",
       "      <td>0.0285</td>\n",
       "      <td>8</td>\n",
       "    </tr>\n",
       "    <tr>\n",
       "      <th>4</th>\n",
       "      <td>0.0285</td>\n",
       "      <td>12</td>\n",
       "    </tr>\n",
       "    <tr>\n",
       "      <th>5</th>\n",
       "      <td>0.0285</td>\n",
       "      <td>17</td>\n",
       "    </tr>\n",
       "    <tr>\n",
       "      <th>6</th>\n",
       "      <td>0.0285</td>\n",
       "      <td>18</td>\n",
       "    </tr>\n",
       "    <tr>\n",
       "      <th>7</th>\n",
       "      <td>0.0285</td>\n",
       "      <td>23</td>\n",
       "    </tr>\n",
       "    <tr>\n",
       "      <th>8</th>\n",
       "      <td>0.0285</td>\n",
       "      <td>27</td>\n",
       "    </tr>\n",
       "    <tr>\n",
       "      <th>10</th>\n",
       "      <td>0.0285</td>\n",
       "      <td>31</td>\n",
       "    </tr>\n",
       "    <tr>\n",
       "      <th>11</th>\n",
       "      <td>0.0285</td>\n",
       "      <td>32</td>\n",
       "    </tr>\n",
       "  </tbody>\n",
       "</table>\n",
       "</div>"
      ],
      "text/plain": [
       "    probas  posicion\n",
       "1   0.0320         5\n",
       "9   0.0295        29\n",
       "0   0.0285         2\n",
       "2   0.0285         6\n",
       "3   0.0285         8\n",
       "4   0.0285        12\n",
       "5   0.0285        17\n",
       "6   0.0285        18\n",
       "7   0.0285        23\n",
       "8   0.0285        27\n",
       "10  0.0285        31\n",
       "11  0.0285        32"
      ]
     },
     "execution_count": 3168,
     "metadata": {},
     "output_type": "execute_result"
    }
   ],
   "source": [
    "df_probas=df_probas.sort_values(by='probas', ascending=False)\n",
    "df_probas"
   ]
  },
  {
   "cell_type": "code",
   "execution_count": 3131,
   "metadata": {},
   "outputs": [
    {
     "data": {
      "text/plain": [
       "1      5\n",
       "9     29\n",
       "0      2\n",
       "2      6\n",
       "3      8\n",
       "4     12\n",
       "5     17\n",
       "6     18\n",
       "7     23\n",
       "8     27\n",
       "10    31\n",
       "11    32\n",
       "Name: posicion, dtype: int64"
      ]
     },
     "execution_count": 3131,
     "metadata": {},
     "output_type": "execute_result"
    }
   ],
   "source": [
    "pos_probs_ult=df_probas['posicion']\n",
    "pos_probs_ult"
   ]
  },
  {
   "cell_type": "code",
   "execution_count": 3132,
   "metadata": {},
   "outputs": [],
   "source": [
    "pos_probs_ult.tolist()\n",
    "np.asarray(pos_probs_ult)\n",
    "pos_probs_ult=pos_probs_ult[:3]"
   ]
  },
  {
   "cell_type": "code",
   "execution_count": 3133,
   "metadata": {},
   "outputs": [
    {
     "data": {
      "text/plain": [
       "[5, 29, 2]"
      ]
     },
     "execution_count": 3133,
     "metadata": {},
     "output_type": "execute_result"
    }
   ],
   "source": [
    "pos_final=np.asarray(pos_probs_ult).tolist()\n",
    "pos_final"
   ]
  },
  {
   "cell_type": "code",
   "execution_count": 3134,
   "metadata": {},
   "outputs": [
    {
     "data": {
      "text/plain": [
       "array(['aicawbrron', 'aomono', 'casoba', 'daerramjdo', 'ddermainsrtosotr',\n",
       "       'dnfocrmo', 'donoarcaso', 'drsm', 'erantr', 'erpasr',\n",
       "       'erqasrparodoarsnidmacluucnratoso', 'erttvzpu', 'facaso', 'lnan',\n",
       "       'ltso', 'mjdo', 'mrantrbg', 'mtroca', 'nodocasovzaa', 'noeiurso',\n",
       "       'onlrcoaobact', 'onlrva', 'pointr', 'pomocasotado', 'ra', 'rt',\n",
       "       'sasrantr', 'snca', 'so', 'socasocofosodo', 'su', 'tr', 'tt',\n",
       "       'urtadoeocltlpo', 'vrttpn'], dtype='<U32')"
      ]
     },
     "execution_count": 3134,
     "metadata": {},
     "output_type": "execute_result"
    }
   ],
   "source": [
    "intencion_a=np.array(clf.classes_)\n",
    "intencion_a"
   ]
  },
  {
   "cell_type": "code",
   "execution_count": 3135,
   "metadata": {},
   "outputs": [
    {
     "data": {
      "text/plain": [
       "array(['donoarcaso', 'mtroca', 'nodocasovzaa'], dtype='<U32')"
      ]
     },
     "execution_count": 3135,
     "metadata": {},
     "output_type": "execute_result"
    }
   ],
   "source": [
    "pala_clave=intencion_a[pos_probs_1]\n",
    "pala_clave"
   ]
  },
  {
   "cell_type": "code",
   "execution_count": 3136,
   "metadata": {},
   "outputs": [
    {
     "data": {
      "text/plain": [
       "['donoarcaso', 'mtroca', 'nodocasovzaa']"
      ]
     },
     "execution_count": 3136,
     "metadata": {},
     "output_type": "execute_result"
    }
   ],
   "source": [
    "pala_clave_1=list(pala_clave)\n",
    "pala_clave_1"
   ]
  },
  {
   "cell_type": "code",
   "execution_count": 3137,
   "metadata": {},
   "outputs": [
    {
     "data": {
      "text/plain": [
       "array([0.032 , 0.0295, 0.0285])"
      ]
     },
     "execution_count": 3137,
     "metadata": {},
     "output_type": "execute_result"
    }
   ],
   "source": [
    "probas=predict_probas[pos_final]\n",
    "probas"
   ]
  },
  {
   "cell_type": "code",
   "execution_count": 3138,
   "metadata": {},
   "outputs": [
    {
     "data": {
      "text/html": [
       "<div>\n",
       "<style scoped>\n",
       "    .dataframe tbody tr th:only-of-type {\n",
       "        vertical-align: middle;\n",
       "    }\n",
       "\n",
       "    .dataframe tbody tr th {\n",
       "        vertical-align: top;\n",
       "    }\n",
       "\n",
       "    .dataframe thead th {\n",
       "        text-align: right;\n",
       "    }\n",
       "</style>\n",
       "<table border=\"1\" class=\"dataframe\">\n",
       "  <thead>\n",
       "    <tr style=\"text-align: right;\">\n",
       "      <th></th>\n",
       "      <th>palabra</th>\n",
       "      <th>probs</th>\n",
       "    </tr>\n",
       "  </thead>\n",
       "  <tbody>\n",
       "    <tr>\n",
       "      <th>0</th>\n",
       "      <td>donoarcaso</td>\n",
       "      <td>0.0320</td>\n",
       "    </tr>\n",
       "    <tr>\n",
       "      <th>1</th>\n",
       "      <td>mtroca</td>\n",
       "      <td>0.0295</td>\n",
       "    </tr>\n",
       "    <tr>\n",
       "      <th>2</th>\n",
       "      <td>nodocasovzaa</td>\n",
       "      <td>0.0285</td>\n",
       "    </tr>\n",
       "  </tbody>\n",
       "</table>\n",
       "</div>"
      ],
      "text/plain": [
       "        palabra   probs\n",
       "0    donoarcaso  0.0320\n",
       "1        mtroca  0.0295\n",
       "2  nodocasovzaa  0.0285"
      ]
     },
     "execution_count": 3138,
     "metadata": {},
     "output_type": "execute_result"
    }
   ],
   "source": [
    "orde=pd.DataFrame({'palabra':pala_clave_1,'probs':probas})\n",
    "orde"
   ]
  },
  {
   "cell_type": "code",
   "execution_count": 3139,
   "metadata": {},
   "outputs": [
    {
     "data": {
      "text/html": [
       "<div>\n",
       "<style scoped>\n",
       "    .dataframe tbody tr th:only-of-type {\n",
       "        vertical-align: middle;\n",
       "    }\n",
       "\n",
       "    .dataframe tbody tr th {\n",
       "        vertical-align: top;\n",
       "    }\n",
       "\n",
       "    .dataframe thead th {\n",
       "        text-align: right;\n",
       "    }\n",
       "</style>\n",
       "<table border=\"1\" class=\"dataframe\">\n",
       "  <thead>\n",
       "    <tr style=\"text-align: right;\">\n",
       "      <th></th>\n",
       "      <th>palabra</th>\n",
       "      <th>probs</th>\n",
       "    </tr>\n",
       "  </thead>\n",
       "  <tbody>\n",
       "    <tr>\n",
       "      <th>0</th>\n",
       "      <td>donoarcaso</td>\n",
       "      <td>0.0320</td>\n",
       "    </tr>\n",
       "    <tr>\n",
       "      <th>1</th>\n",
       "      <td>mtroca</td>\n",
       "      <td>0.0295</td>\n",
       "    </tr>\n",
       "    <tr>\n",
       "      <th>2</th>\n",
       "      <td>nodocasovzaa</td>\n",
       "      <td>0.0285</td>\n",
       "    </tr>\n",
       "  </tbody>\n",
       "</table>\n",
       "</div>"
      ],
      "text/plain": [
       "        palabra   probs\n",
       "0    donoarcaso  0.0320\n",
       "1        mtroca  0.0295\n",
       "2  nodocasovzaa  0.0285"
      ]
     },
     "execution_count": 3139,
     "metadata": {},
     "output_type": "execute_result"
    }
   ],
   "source": [
    "orde_1=orde.sort_values(by='probs', ascending=False)\n",
    "orde_1\n"
   ]
  },
  {
   "cell_type": "code",
   "execution_count": 3140,
   "metadata": {},
   "outputs": [
    {
     "data": {
      "text/plain": [
       "['donoarcaso', 'mtroca', 'nodocasovzaa']"
      ]
     },
     "execution_count": 3140,
     "metadata": {},
     "output_type": "execute_result"
    }
   ],
   "source": [
    "etiquetas=list(orde_1['palabra'])\n",
    "etiquetas"
   ]
  },
  {
   "cell_type": "markdown",
   "metadata": {},
   "source": [
    "##### 5.2 Invocando al objeto descripcion_m a partir del archivo freq_words.joblib"
   ]
  },
  {
   "cell_type": "code",
   "execution_count": 3141,
   "metadata": {},
   "outputs": [],
   "source": [
    "descripcion_m = objects_sueldo[1]"
   ]
  },
  {
   "cell_type": "code",
   "execution_count": 3142,
   "metadata": {},
   "outputs": [],
   "source": [
    "descripcion_a=np.array(descripcion_m)"
   ]
  },
  {
   "cell_type": "code",
   "execution_count": 3143,
   "metadata": {},
   "outputs": [],
   "source": [
    "pala_clave_descrip=descripcion_a[pos_final]"
   ]
  },
  {
   "cell_type": "code",
   "execution_count": 3144,
   "metadata": {},
   "outputs": [
    {
     "data": {
      "text/plain": [
       "['Si abrí mi Cuenta por la web, ¿Cómo puedo realizar operaciones en ella?.',\n",
       " '¿Cómo activo el modo nocturno?',\n",
       " '¿Qué es una Cuenta Sueldo bimoneda?.',\n",
       " '¿Cuál es la diferencia entre una respuesta y un Mensaje Directo?',\n",
       " '¿Dónde puedo encontrar más información sobre los Términos de servicio de Twitter?',\n",
       " '¿Puedo disponer de los fondos en cualquier momento?.',\n",
       " '¿Cuánto dinero necesito para abrir una Cuenta Sueldo?.',\n",
       " '¿Cómo puedo denunciar el spam?',\n",
       " '¿Cómo puedo enviar actualizaciones a Twitter?',\n",
       " '¿Cómo puedo encontrar personas para seguir?',\n",
       " '¿Cómo puedo enviar una queja sobre problemas relacionados con los derechos de autor, la suplantación de identidad, las marcas comerciales u otras cuestiones relacionadas con los Términos de servicio?',\n",
       " '¿Puedo editar un Tweet una vez que lo publiqué?',\n",
       " '¿Qué es una franquicia en mi cuenta Sueldo?.',\n",
       " '¿Quiénes leen mis actualizaciones?',\n",
       " '¿Qué son los límites de seguimiento?',\n",
       " '¿Qué son los Mensajes Directos?',\n",
       " '¿Puedo mostrar mis actualizaciones de Twitter en mi blog?',\n",
       " '¿Mensualmente recibo estados de cuenta?.',\n",
       " '¿Puedo hacer nuevos depósitos en mi Cuenta Sueldo una vez abierta?.',\n",
       " '¿Necesito algo en especial para usar el servicio?',\n",
       " '¿Cuántas operaciones libres tengo en Cajeros Automáticos del BBVA Continental?.',\n",
       " '¿Cuántas operaciones libres tengo por ventanilla?.',\n",
       " '¿Cómo publico una imagen en Twitter?',\n",
       " '¿Cuánto pago al mes por mantenimiento de mi Cuenta Sueldo y mi Tarjeta de Débito?.',\n",
       " '¿Qué son las respuestas?',\n",
       " '¿Qué es un Retweet?',\n",
       " '¿Qué significa seguir a alguien en Twitter?',\n",
       " '¿Por qué se suspenden las cuentas?',\n",
       " '¿Cómo sé a quién estoy siguiendo?',\n",
       " '¿Los saldos de mi Cuenta Sueldo están cubiertos por el Fondo de Seguros de Depósito?.',\n",
       " '¿Cómo sé quién me sigue?',\n",
       " '¿Qué es Twitter?',\n",
       " '¿Qué es un Tweet?',\n",
       " '¿Puedo usar mi tarjeta de débito en establecimientos comerciales que tengan terminales POS?.',\n",
       " '¿Por qué no puedo ver todos mis Tweets? ¿Se perdieron?']"
      ]
     },
     "execution_count": 3144,
     "metadata": {},
     "output_type": "execute_result"
    }
   ],
   "source": [
    "descripcion_m"
   ]
  },
  {
   "cell_type": "code",
   "execution_count": 3145,
   "metadata": {},
   "outputs": [
    {
     "data": {
      "text/plain": [
       "array(['¿Puedo disponer de los fondos en cualquier momento?.',\n",
       "       '¿Los saldos de mi Cuenta Sueldo están cubiertos por el Fondo de Seguros de Depósito?.',\n",
       "       '¿Qué es una Cuenta Sueldo bimoneda?.'], dtype='<U199')"
      ]
     },
     "execution_count": 3145,
     "metadata": {},
     "output_type": "execute_result"
    }
   ],
   "source": [
    "pala_clave_descrip"
   ]
  },
  {
   "cell_type": "code",
   "execution_count": 3146,
   "metadata": {},
   "outputs": [],
   "source": [
    "pala_clave_1_descrip=list(pala_clave_descrip)"
   ]
  },
  {
   "cell_type": "code",
   "execution_count": 3147,
   "metadata": {},
   "outputs": [],
   "source": [
    "orde_descrip=pd.DataFrame({'descripcion':pala_clave_1_descrip,'probs':probas})\n",
    "orde_1_descrip=orde_descrip.sort_values(by='probs', ascending=False)\n",
    "etiquetas_descrip=list(orde_1_descrip['descripcion'])\n"
   ]
  },
  {
   "cell_type": "code",
   "execution_count": 3148,
   "metadata": {},
   "outputs": [
    {
     "data": {
      "text/html": [
       "<div>\n",
       "<style scoped>\n",
       "    .dataframe tbody tr th:only-of-type {\n",
       "        vertical-align: middle;\n",
       "    }\n",
       "\n",
       "    .dataframe tbody tr th {\n",
       "        vertical-align: top;\n",
       "    }\n",
       "\n",
       "    .dataframe thead th {\n",
       "        text-align: right;\n",
       "    }\n",
       "</style>\n",
       "<table border=\"1\" class=\"dataframe\">\n",
       "  <thead>\n",
       "    <tr style=\"text-align: right;\">\n",
       "      <th></th>\n",
       "      <th>descripcion</th>\n",
       "      <th>probs</th>\n",
       "    </tr>\n",
       "  </thead>\n",
       "  <tbody>\n",
       "    <tr>\n",
       "      <th>0</th>\n",
       "      <td>¿Puedo disponer de los fondos en cualquier mom...</td>\n",
       "      <td>0.0320</td>\n",
       "    </tr>\n",
       "    <tr>\n",
       "      <th>1</th>\n",
       "      <td>¿Los saldos de mi Cuenta Sueldo están cubierto...</td>\n",
       "      <td>0.0295</td>\n",
       "    </tr>\n",
       "    <tr>\n",
       "      <th>2</th>\n",
       "      <td>¿Qué es una Cuenta Sueldo bimoneda?.</td>\n",
       "      <td>0.0285</td>\n",
       "    </tr>\n",
       "  </tbody>\n",
       "</table>\n",
       "</div>"
      ],
      "text/plain": [
       "                                         descripcion   probs\n",
       "0  ¿Puedo disponer de los fondos en cualquier mom...  0.0320\n",
       "1  ¿Los saldos de mi Cuenta Sueldo están cubierto...  0.0295\n",
       "2               ¿Qué es una Cuenta Sueldo bimoneda?.  0.0285"
      ]
     },
     "execution_count": 3148,
     "metadata": {},
     "output_type": "execute_result"
    }
   ],
   "source": [
    "orde_1_descrip"
   ]
  },
  {
   "cell_type": "code",
   "execution_count": 3149,
   "metadata": {},
   "outputs": [
    {
     "data": {
      "text/plain": [
       "['¿Puedo disponer de los fondos en cualquier momento?.',\n",
       " '¿Los saldos de mi Cuenta Sueldo están cubiertos por el Fondo de Seguros de Depósito?.',\n",
       " '¿Qué es una Cuenta Sueldo bimoneda?.']"
      ]
     },
     "execution_count": 3149,
     "metadata": {},
     "output_type": "execute_result"
    }
   ],
   "source": [
    "etiquetas_descrip"
   ]
  },
  {
   "cell_type": "code",
   "execution_count": null,
   "metadata": {},
   "outputs": [],
   "source": []
  },
  {
   "cell_type": "code",
   "execution_count": 3150,
   "metadata": {},
   "outputs": [
    {
     "data": {
      "text/plain": [
       "0"
      ]
     },
     "execution_count": 3150,
     "metadata": {},
     "output_type": "execute_result"
    }
   ],
   "source": [
    "flag=0\n",
    "if len(np.unique(predict_probas))==1:\n",
    "    flag=1\n",
    "else:\n",
    "    flag=0\n",
    "flag\n",
    "\n"
   ]
  },
  {
   "cell_type": "markdown",
   "metadata": {},
   "source": [
    "### Definición de hiperparámetros al modelo de Ranking: _umbral_"
   ]
  },
  {
   "cell_type": "markdown",
   "metadata": {},
   "source": [
    "El hiperparámetro tendrá como objetivo ajustar el modelo para que la respuesta sea única o tricotómica.\n"
   ]
  },
  {
   "cell_type": "markdown",
   "metadata": {},
   "source": [
    "$\\frac{1}{len(FAQ)}$ + ${umbral}$."
   ]
  },
  {
   "cell_type": "code",
   "execution_count": 3151,
   "metadata": {},
   "outputs": [],
   "source": [
    "def zscore(probas):\n",
    "    sd=probas.std()\n",
    "    mean=probas.mean()\n",
    "    zsc=(probas-mean)/sd\n",
    "    return(zsc)"
   ]
  },
  {
   "cell_type": "code",
   "execution_count": 3152,
   "metadata": {},
   "outputs": [
    {
     "data": {
      "text/plain": [
       "array([-0.26377584, -0.26377584, -0.10180822, -0.26377584, -0.26377584,\n",
       "        5.56705853, -0.10180822, -0.26377584, -0.10180822, -0.26377584,\n",
       "       -0.26377584, -0.26377584, -0.10180822, -0.26377584, -0.26377584,\n",
       "       -0.26377584, -0.26377584, -0.10180822, -0.10180822, -0.26377584,\n",
       "       -0.26377584, -0.26377584, -0.26377584, -0.10180822, -0.26377584,\n",
       "       -0.26377584, -0.26377584, -0.10180822, -0.26377584,  1.51786799,\n",
       "       -0.26377584, -0.10180822, -0.10180822, -0.26377584, -0.26377584])"
      ]
     },
     "execution_count": 3152,
     "metadata": {},
     "output_type": "execute_result"
    }
   ],
   "source": [
    "zscore(predict_probas)"
   ]
  },
  {
   "cell_type": "code",
   "execution_count": 3153,
   "metadata": {},
   "outputs": [],
   "source": [
    "import random\n",
    "import scipy as sp\n",
    "from scipy.stats import uniform"
   ]
  },
  {
   "cell_type": "code",
   "execution_count": 3154,
   "metadata": {},
   "outputs": [],
   "source": [
    "from math import factorial\n",
    "from scipy.stats import norm\n",
    "from sklearn.utils import resample\n",
    "from scipy import stats"
   ]
  },
  {
   "cell_type": "code",
   "execution_count": 3155,
   "metadata": {},
   "outputs": [],
   "source": [
    "sd=predict_probas.std()\n",
    "mean=predict_probas.mean()"
   ]
  },
  {
   "cell_type": "code",
   "execution_count": 3156,
   "metadata": {},
   "outputs": [
    {
     "data": {
      "text/plain": [
       "0.02857142857142857"
      ]
     },
     "execution_count": 3156,
     "metadata": {},
     "output_type": "execute_result"
    }
   ],
   "source": [
    "stats.shapiro(predict_probas)\n",
    "1/35"
   ]
  },
  {
   "cell_type": "code",
   "execution_count": 3157,
   "metadata": {},
   "outputs": [
    {
     "data": {
      "text/plain": [
       "0.0006174073507293976"
      ]
     },
     "execution_count": 3157,
     "metadata": {},
     "output_type": "execute_result"
    }
   ],
   "source": [
    "sd"
   ]
  },
  {
   "cell_type": "code",
   "execution_count": 3158,
   "metadata": {},
   "outputs": [
    {
     "data": {
      "text/plain": [
       "0.028562857142857143"
      ]
     },
     "execution_count": 3158,
     "metadata": {},
     "output_type": "execute_result"
    }
   ],
   "source": [
    "mean"
   ]
  },
  {
   "cell_type": "code",
   "execution_count": 3159,
   "metadata": {},
   "outputs": [
    {
     "data": {
      "text/plain": [
       "array([-0.26377584, -0.26377584, -0.10180822, -0.26377584, -0.26377584,\n",
       "        5.56705853, -0.10180822, -0.26377584, -0.10180822, -0.26377584,\n",
       "       -0.26377584, -0.26377584, -0.10180822, -0.26377584, -0.26377584,\n",
       "       -0.26377584, -0.26377584, -0.10180822, -0.10180822, -0.26377584,\n",
       "       -0.26377584, -0.26377584, -0.26377584, -0.10180822, -0.26377584,\n",
       "       -0.26377584, -0.26377584, -0.10180822, -0.26377584,  1.51786799,\n",
       "       -0.26377584, -0.10180822, -0.10180822, -0.26377584, -0.26377584])"
      ]
     },
     "execution_count": 3159,
     "metadata": {},
     "output_type": "execute_result"
    }
   ],
   "source": [
    "zsc=(predict_probas-mean)/sd\n",
    "zsc # -2 a 2"
   ]
  },
  {
   "cell_type": "markdown",
   "metadata": {},
   "source": [
    "## Probabilidades de cada pregunta del FAQ exacto\n",
    "\n",
    "1.-  3.17340639   0.40775613   \n",
    "2.-  2.99460189   0.71222964   0.08093519   \n",
    "3.-  3.2830604    0.12289531   \n",
    "4.-  3.05485867   0.43962911   0.43962911   \n",
    "5.-  2.99243639   0.69896325   0.10921301   \n",
    "6.-  3.26887947   \n",
    "7.-  2.98743358   0.38452115   0.38452115   0.32536405   \n",
    "8.-  2.78763451   1.45940865   0.0327957    \n",
    "9.-  3.14529559   0.6045702    0.14540296   \n",
    "10.- 2.98872176   0.38983327   0.38983327   0.30320366   \n",
    "11.- 2.98881752   0.38630975   0.30498138   0.30498138   \n",
    "12.- 3.16990576   0.63757311   "
   ]
  },
  {
   "cell_type": "code",
   "execution_count": 3160,
   "metadata": {},
   "outputs": [
    {
     "data": {
      "text/plain": [
       "(array([5], dtype=int64),)"
      ]
     },
     "execution_count": 3160,
     "metadata": {},
     "output_type": "execute_result"
    }
   ],
   "source": [
    "np.where(zsc>=2)"
   ]
  },
  {
   "cell_type": "code",
   "execution_count": 3161,
   "metadata": {},
   "outputs": [
    {
     "data": {
      "text/plain": [
       "0.02857142857142857"
      ]
     },
     "execution_count": 3161,
     "metadata": {},
     "output_type": "execute_result"
    }
   ],
   "source": [
    "1/len(descripcion_m)"
   ]
  },
  {
   "cell_type": "code",
   "execution_count": 3162,
   "metadata": {},
   "outputs": [
    {
     "data": {
      "text/plain": [
       "array([5], dtype=int64)"
      ]
     },
     "execution_count": 3162,
     "metadata": {},
     "output_type": "execute_result"
    }
   ],
   "source": [
    "sum(np.where(zsc>=2))"
   ]
  },
  {
   "cell_type": "code",
   "execution_count": 3163,
   "metadata": {},
   "outputs": [
    {
     "data": {
      "text/plain": [
       "0.9996999999999995"
      ]
     },
     "execution_count": 3163,
     "metadata": {},
     "output_type": "execute_result"
    }
   ],
   "source": [
    "a = [1,3,2,2,2]\n",
    "sum(predict_probas)"
   ]
  },
  {
   "cell_type": "code",
   "execution_count": 3164,
   "metadata": {},
   "outputs": [
    {
     "data": {
      "text/plain": [
       "1"
      ]
     },
     "execution_count": 3164,
     "metadata": {},
     "output_type": "execute_result"
    }
   ],
   "source": [
    "len(np.where(zsc>=2)[0])"
   ]
  },
  {
   "cell_type": "code",
   "execution_count": 3165,
   "metadata": {},
   "outputs": [
    {
     "name": "stdout",
     "output_type": "stream",
     "text": [
      "Estas son nuestras sugerencias\n"
     ]
    }
   ],
   "source": [
    "if len(np.where(zsc>=2)[0])==0 or len(np.where(zsc>=2)[0])>=4:\n",
    "    print(\"Por favor sea mas especifico\")\n",
    "elif len(np.where(zsc>=2)[0])>=1 or len(np.where(zsc>=2)[0])<=3:\n",
    "    print(\"Estas son nuestras sugerencias\")"
   ]
  },
  {
   "cell_type": "code",
   "execution_count": 3166,
   "metadata": {},
   "outputs": [
    {
     "data": {
      "text/plain": [
       "array([0.3448772 , 0.38470144])"
      ]
     },
     "execution_count": 3166,
     "metadata": {},
     "output_type": "execute_result"
    }
   ],
   "source": [
    "n = len(predict_probas)\n",
    "reps = 10000\n",
    "xb = np.random.choice(x, (n, reps))\n",
    "mb = xb.mean(axis=0)\n",
    "mb.sort()\n",
    "\n",
    "np.percentile(mb, [.05, .95])"
   ]
  },
  {
   "cell_type": "code",
   "execution_count": null,
   "metadata": {},
   "outputs": [],
   "source": []
  },
  {
   "cell_type": "code",
   "execution_count": 3167,
   "metadata": {},
   "outputs": [
    {
     "data": {
      "text/plain": [
       "0.03142857142857143"
      ]
     },
     "execution_count": 3167,
     "metadata": {},
     "output_type": "execute_result"
    }
   ],
   "source": [
    "c=1/35\n",
    "c+0.1*c"
   ]
  }
 ],
 "metadata": {
  "kernelspec": {
   "display_name": "Python 3",
   "language": "python",
   "name": "python3"
  },
  "language_info": {
   "codemirror_mode": {
    "name": "ipython",
    "version": 3
   },
   "file_extension": ".py",
   "mimetype": "text/x-python",
   "name": "python",
   "nbconvert_exporter": "python",
   "pygments_lexer": "ipython3",
   "version": "3.6.6"
  }
 },
 "nbformat": 4,
 "nbformat_minor": 2
}
